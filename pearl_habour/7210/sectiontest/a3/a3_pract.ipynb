{
 "cells": [
  {
   "cell_type": "markdown",
   "metadata": {},
   "source": [
    "Let's create a class hierarchy based on the Harry Potter novels by J. K. Rowling.\n",
    "\n",
    "Given two base classes, Person and WizardingPower:"
   ]
  },
  {
   "cell_type": "code",
   "execution_count": 3,
   "metadata": {},
   "outputs": [],
   "source": [
    "class Person:\n",
    "\n",
    "    def __init__(self, name, house, gender):\n",
    "        self.name = name\n",
    "        self.house = house\n",
    "        self.gender = gender\n",
    "\n",
    "    def __str__(self):\n",
    "        return (f'{self.name} is a {self.gender} {self.__class__.__name__} from {self.house}.') \n",
    "\n",
    "class WizardingPower:\n",
    "\n",
    "    def __init__(self, magical_strength):\n",
    "        self.magical_strength = magical_strength\n",
    "\n",
    "    def is_magical (self):\n",
    "        return True  "
   ]
  },
  {
   "cell_type": "markdown",
   "metadata": {},
   "source": [
    "create three classes as follows:\n",
    "\n",
    "`Muggle`\n",
    "\n",
    "inherits from the Person class, and\n",
    "always has house set to 'no house'.\n",
    "`Witch`\n",
    "\n",
    "inherits from `Person` and `WizardingPower` in that order, and\n",
    "always has gender set to 'female'.\n",
    "`Wizard`\n",
    "inherits from `Person` and `WizardingPower` in that order, and\n",
    "always has gender set to 'male'\n",
    "You must use the super() constructor from class Person in your constructors for the Muggle, `Witch` and `Wizard` classes to demonstrate your mastery of inheritance. You must also use the initialization method from the class  `WizardingPower` to set the magical strength of your witches and wizards. \n",
    "\n",
    "You must demonstrate that you have tested your code with the following test cases:"
   ]
  },
  {
   "cell_type": "code",
   "execution_count": 15,
   "metadata": {},
   "outputs": [],
   "source": [
    "class Person:\n",
    "\n",
    "    def __init__(self, name, house, gender):\n",
    "        self.name = name\n",
    "        self.house = house\n",
    "        self.gender = gender\n",
    "\n",
    "    def __str__(self):\n",
    "        return (f'{self.name} is a {self.gender} {self.__class__.__name__} from {self.house}.') \n",
    "    \n",
    "class Muggle(Person):\n",
    "    \n",
    "    def __init__(self, name, gender):\n",
    "        super().__init__(name, 'no house', gender)\n",
    "        \n",
    "        \n",
    "class Witch(Person, WizardingPower):\n",
    "    \n",
    "    def __init__(self, name, house, magical_strength):\n",
    "        Person.__init__(self, name, house, 'female')\n",
    "        WizardingPower.__init__(self, magical_strength)\n",
    "        \n",
    "class Wizard(Person, WizardingPower):\n",
    "    \n",
    "    def __init__(self, name, house, magical_strength):\n",
    "        Person.__init__(self, name, house, 'male')\n",
    "        WizardingPower.__init__(self, magical_strength)\n",
    "        "
   ]
  },
  {
   "cell_type": "code",
   "execution_count": 16,
   "metadata": {},
   "outputs": [],
   "source": [
    "harry = Wizard ('Harry Potter', 'Gryffindor', 10)\n",
    "\n",
    "assert harry.__str__() == \\\n",
    "'Harry Potter is a male Wizard from Gryffindor.'\n",
    "\n",
    "# Check multiple inheritance\n",
    "assert isinstance (harry, Person) and isinstance (harry, WizardingPower)\n",
    "\n",
    "# Check Harry's WizardingPower\n",
    "assert harry.is_magical()\n",
    "assert harry.magical_strength == 10\n",
    "\n",
    "hermoine = Witch ('Hermione Granger', 'Gryffindor', 7)\n",
    "\n",
    "assert hermoine.__str__() == \\\n",
    "'Hermione Granger is a female Witch from Gryffindor.'\n",
    "\n",
    "assert isinstance (hermoine, Person) and isinstance (hermoine, WizardingPower)\n",
    "\n",
    "assert hermoine.is_magical()\n",
    "assert hermoine.magical_strength == 7\n",
    "\n",
    "dudley = Muggle ('Dudley Dursley', 'male')\n",
    "assert dudley.__str__() == \\\n",
    "'Dudley Dursley is a male Muggle from no house.'\n",
    "\n",
    "jk = Person ('J. K. Rowling', 'Pottermore Publishing', 'female')\n",
    "assert jk.__str__() == \\\n",
    "'J. K. Rowling is a female Person from Pottermore Publishing.'"
   ]
  }
 ],
 "metadata": {
  "kernelspec": {
   "display_name": "Python 3",
   "language": "python",
   "name": "python3"
  },
  "language_info": {
   "codemirror_mode": {
    "name": "ipython",
    "version": 3
   },
   "file_extension": ".py",
   "mimetype": "text/x-python",
   "name": "python",
   "nbconvert_exporter": "python",
   "pygments_lexer": "ipython3",
   "version": "3.10.11"
  }
 },
 "nbformat": 4,
 "nbformat_minor": 2
}
