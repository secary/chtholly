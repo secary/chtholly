{
 "cells": [
  {
   "cell_type": "markdown",
   "metadata": {},
   "source": [
    "There are four teams in our local soccer competition. Each weekend, pairs of teams play each other and their results are stored in a dictionary with the team name as the key and their goals scored as the values like:"
   ]
  },
  {
   "cell_type": "code",
   "execution_count": null,
   "metadata": {},
   "outputs": [],
   "source": [
    "{\"Coromandel Kickers\" : 0,\n",
    " \"Kangaroo Hoppers\"   : 1}"
   ]
  },
  {
   "cell_type": "markdown",
   "metadata": {},
   "source": [
    "Unsurprisingly, the team that scores the most goals wins. The other team loses - unless they score the same number of goals in which case the match is a draw. Some weekends, teams have a 'bye' meaning they don't play resulting in a record like:"
   ]
  },
  {
   "cell_type": "code",
   "execution_count": null,
   "metadata": {},
   "outputs": [],
   "source": [
    "{\"Dudley Peninsulas\" : 'bye',\n",
    " \"Kangaroo Hoppers\"  : 'bye'}"
   ]
  },
  {
   "cell_type": "markdown",
   "metadata": {},
   "source": [
    "At the end of the season, we wish to calculate each team's overall performance as a tuple of `(wins, losses, draws)` and store these in a dictionary where the team name is the key and their `(wins, losses, draws)`record is the value.\n",
    "\n",
    "Given a list of each weekend's matches like:"
   ]
  },
  {
   "cell_type": "code",
   "execution_count": null,
   "metadata": {},
   "outputs": [],
   "source": [
    "matches = [\n",
    "    [\n",
    "        {\"Hillside Peaks\" : 2,\n",
    "         \"Dudley Peninsulas\" : 0},\n",
    "        {\"Coromandel Kickers\" : 0,\n",
    "         \"Kangaroo Hoppers\" : 1}\n",
    "    ],\n",
    "    [\n",
    "        {\"Coromandel Kickers\" : 1,\n",
    "         \"Dudley Peninsulas\" : 1},\n",
    "        {\"Hillside Peaks\" : 3,\n",
    "         \"Kangaroo Hoppers\" : 1}\n",
    "    ],\n",
    "    [\n",
    "        {\"Coromandel Kickers\" : 0,\n",
    "         \"Hillside Peaks\" : 1},\n",
    "        {\"Dudley Peninsulas\" : 'bye',\n",
    "         \"Kangaroo Hoppers\" : 'bye'}\n",
    "\n",
    "    ],\n",
    "    [\n",
    "        {\"Coromandel Kickers\" : 'bye',\n",
    "         \"Hillside Peaks\" : 'bye'},\n",
    "        {\"Dudley Peninsulas\" : 13,\n",
    "         \"Kangaroo Hoppers\" : 0}\n",
    "\n",
    "    ]\n",
    "]"
   ]
  },
  {
   "cell_type": "markdown",
   "metadata": {},
   "source": [
    "write a function:  \n",
    "`def win_loss_draw (matches):`"
   ]
  },
  {
   "cell_type": "markdown",
   "metadata": {},
   "source": [
    "that accepts a list of matches over the weekends of the competition and returns a dictionary containing the `(wins, losses, draws)` summary for each team like:"
   ]
  },
  {
   "cell_type": "code",
   "execution_count": null,
   "metadata": {},
   "outputs": [],
   "source": [
    "{'Hillside Peaks': (3, 0, 0),\n",
    " 'Dudley Peninsulas': (1, 1, 1),\n",
    " 'Coromandel Kickers': (0, 2, 1),\n",
    " 'Kangaroo Hoppers': (1, 2, 0)}"
   ]
  },
  {
   "cell_type": "markdown",
   "metadata": {},
   "source": [
    "You *must* not hard-code your handling of the team names `(like \"if team == 'Hillside Peaks':\")` but, instead, determine the keys for your results dictionary based on the list of matches passed into the function.\n",
    "\n",
    "You *must* demonstrate that you have tested your code with the list above and the following list:"
   ]
  },
  {
   "cell_type": "code",
   "execution_count": 47,
   "metadata": {},
   "outputs": [],
   "source": [
    "matches = [\n",
    "    [\n",
    "        {\"Furious Furies\" : 6,\n",
    "         \"Coldly Chills\" : 2},\n",
    "        {\"Franks Benjamins\" : 1,\n",
    "         \"Terrible Tweens\" : 0}\n",
    "    ],\n",
    "    [\n",
    "        {\"Furious Furies\" : 4,\n",
    "         \"Franks Benjamins\" : 1},\n",
    "        { \"Coldly Chills\" : 0,\n",
    "         \"Terrible Tweens\" : 0}\n",
    "    ]\n",
    "]"
   ]
  },
  {
   "cell_type": "code",
   "execution_count": 46,
   "metadata": {},
   "outputs": [
    {
     "data": {
      "text/plain": [
       "{'Furious Furies': (2, 0, 0),\n",
       " 'Coldly Chills': (0, 1, 1),\n",
       " 'Franks Benjamins': (1, 1, 0),\n",
       " 'Terrible Tweens': (0, 1, 1)}"
      ]
     },
     "execution_count": 46,
     "metadata": {},
     "output_type": "execute_result"
    }
   ],
   "source": [
    "def win_loss_draw(matches):\n",
    "    result = {}\n",
    "    allmatches = []\n",
    "    for match_day in matches:\n",
    "        for match in match_day:\n",
    "            allmatches.append(match)\n",
    "\n",
    "    for match_detail in allmatches:\n",
    "        teams = list(match_detail.keys())\n",
    "\n",
    "        \n",
    "        for team in teams:\n",
    "            if team not in result:\n",
    "                result[team] = (0,0,0)\n",
    "            else:\n",
    "                pass\n",
    "        \n",
    "        team0 = teams[0]\n",
    "        team1 = teams[1]\n",
    "        \n",
    "        if match_detail[team0] > match_detail[team1]:\n",
    "            result[team0] = (result[team0][0]+1,result[team0][1],result[team0][2])\n",
    "            result[team1] = (result[team1][0],result[team1][1]+1,result[team1][2])\n",
    "            \n",
    "        elif match_detail[team1] == match_detail[team0]:\n",
    "            result[team0] = (result[team0][0],result[team0][1],result[team0][2]+1)\n",
    "            result[team1] = (result[team1][0],result[team1][1],result[team1][2]+1)\n",
    "            \n",
    "        \n",
    "\n",
    "    return result\n",
    "            \n",
    "\n",
    "\n",
    "win_loss_draw(matches)"
   ]
  },
  {
   "cell_type": "code",
   "execution_count": 50,
   "metadata": {},
   "outputs": [
    {
     "name": "stdout",
     "output_type": "stream",
     "text": [
      "('Furious Furies', 'win', 'Coldly Chills', 'lose')\n",
      "('Franks Benjamins', 'win', 'Terrible Tweens', 'lose')\n",
      "('Furious Furies', 'win', 'Franks Benjamins', 'lose')\n",
      "('Coldly Chills', 'draw', 'Terrible Tweens', 'draw')\n"
     ]
    }
   ],
   "source": [
    "matches = [\n",
    "    [\n",
    "        {\"Furious Furies\": 6,\n",
    "         \"Coldly Chills\": 2},\n",
    "        {\"Franks Benjamins\": 1,\n",
    "         \"Terrible Tweens\": 0}\n",
    "    ],\n",
    "    [\n",
    "        {\"Furious Furies\": 4,\n",
    "         \"Franks Benjamins\": 1},\n",
    "        {\"Coldly Chills\": 0,\n",
    "         \"Terrible Tweens\": 0}\n",
    "    ]\n",
    "]\n",
    "\n",
    "class Match:\n",
    "    def __init__(self, matches):\n",
    "        self.matches = matches\n",
    "        self.results = []\n",
    "\n",
    "    def win_loss_draw(self):\n",
    "        for match_day in self.matches:\n",
    "            for match in match_day:\n",
    "                teams = list(match.keys())\n",
    "                scores = list(match.values())\n",
    "                \n",
    "                if scores[0] > scores[1]:\n",
    "                    result = (teams[0], 'win', teams[1], 'lose')\n",
    "                elif scores[0] < scores[1]:\n",
    "                    result = (teams[1], 'win', teams[0], 'lose')\n",
    "                else:\n",
    "                    result = (teams[0], 'draw', teams[1], 'draw')\n",
    "                \n",
    "                self.results.append(result)\n",
    "        \n",
    "        return self.results\n",
    "\n",
    "q4 = Match(matches)\n",
    "results = q4.win_loss_draw()\n",
    "\n",
    "for result in results:\n",
    "    print(result)\n"
   ]
  }
 ],
 "metadata": {
  "kernelspec": {
   "display_name": "Python 3",
   "language": "python",
   "name": "python3"
  },
  "language_info": {
   "codemirror_mode": {
    "name": "ipython",
    "version": 3
   },
   "file_extension": ".py",
   "mimetype": "text/x-python",
   "name": "python",
   "nbconvert_exporter": "python",
   "pygments_lexer": "ipython3",
   "version": "3.10.11"
  }
 },
 "nbformat": 4,
 "nbformat_minor": 2
}
